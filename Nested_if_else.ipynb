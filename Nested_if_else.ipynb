{
  "nbformat": 4,
  "nbformat_minor": 0,
  "metadata": {
    "colab": {
      "provenance": [],
      "authorship_tag": "ABX9TyPW/SO4qu359bCdiI9hxQaH",
      "include_colab_link": true
    },
    "kernelspec": {
      "name": "python3",
      "display_name": "Python 3"
    },
    "language_info": {
      "name": "python"
    }
  },
  "cells": [
    {
      "cell_type": "markdown",
      "metadata": {
        "id": "view-in-github",
        "colab_type": "text"
      },
      "source": [
        "<a href=\"https://colab.research.google.com/github/AtasAlex/CPE-21A-PLD-1-1/blob/main/Nested_if_else.ipynb\" target=\"_parent\"><img src=\"https://colab.research.google.com/assets/colab-badge.svg\" alt=\"Open In Colab\"/></a>"
      ]
    },
    {
      "cell_type": "markdown",
      "source": [
        "#Example #1"
      ],
      "metadata": {
        "id": "mtf4KXlou6uK"
      }
    },
    {
      "cell_type": "code",
      "source": [
        "x= int(input(\"Type your age:\"))\n",
        "if x>18:\n",
        "  print(\"qualified\")\n",
        "elif x<18:\n",
        "  print(\"not qualified\")\n",
        "else:\n",
        "  print(\"qualified\")"
      ],
      "metadata": {
        "colab": {
          "base_uri": "https://localhost:8080/"
        },
        "id": "AiD4hhgDu-nT",
        "outputId": "664c6638-00fb-48a6-fc2f-983e8d665cb2"
      },
      "execution_count": 43,
      "outputs": [
        {
          "output_type": "stream",
          "name": "stdout",
          "text": [
            "Type your age:19\n",
            "qualified\n"
          ]
        }
      ]
    },
    {
      "cell_type": "markdown",
      "source": [
        "#Example #2"
      ],
      "metadata": {
        "id": "1jQNY5SK04Sh"
      }
    },
    {
      "cell_type": "code",
      "source": [
        "x= float(input(\"Type a number:\"))\n",
        "if x<0:\n",
        "  print(\"negative\")\n",
        "elif x>0:\n",
        "  print(\"positive\")\n",
        "else:\n",
        "  print(\"Zero\")"
      ],
      "metadata": {
        "colab": {
          "base_uri": "https://localhost:8080/"
        },
        "id": "ohcOOk1i1obO",
        "outputId": "035e76d0-63e2-4c14-ec8c-65fcf764ae1c"
      },
      "execution_count": 42,
      "outputs": [
        {
          "output_type": "stream",
          "name": "stdout",
          "text": [
            "Type a number:1\n",
            "positive\n"
          ]
        }
      ]
    },
    {
      "cell_type": "markdown",
      "source": [
        "#Example #3"
      ],
      "metadata": {
        "id": "7E7RIzHA8tkJ"
      }
    },
    {
      "cell_type": "code",
      "source": [
        "x= int(input(\"Grade:\"))\n",
        "\n",
        "if x>=75:\n",
        "  print(\"Passed\")\n",
        "elif x==74:\n",
        "  print(\"Remedial\")\n",
        "elif x<74:\n",
        "  print(\"Failed\")\n",
        "if x<0:\n",
        "  print(\"Not accepted\")"
      ],
      "metadata": {
        "colab": {
          "base_uri": "https://localhost:8080/"
        },
        "id": "rOLODSg78wwK",
        "outputId": "28eddfa6-7e00-4c98-87f2-6ee07f49dc81"
      },
      "execution_count": 44,
      "outputs": [
        {
          "output_type": "stream",
          "name": "stdout",
          "text": [
            "Grade:90\n",
            "Passed\n"
          ]
        }
      ]
    }
  ]
}