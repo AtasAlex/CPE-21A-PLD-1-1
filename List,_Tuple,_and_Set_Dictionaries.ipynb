{
  "nbformat": 4,
  "nbformat_minor": 0,
  "metadata": {
    "colab": {
      "provenance": [],
      "authorship_tag": "ABX9TyO9egE3ubWv3QLZGKX27Asl",
      "include_colab_link": true
    },
    "kernelspec": {
      "name": "python3",
      "display_name": "Python 3"
    },
    "language_info": {
      "name": "python"
    }
  },
  "cells": [
    {
      "cell_type": "markdown",
      "metadata": {
        "id": "view-in-github",
        "colab_type": "text"
      },
      "source": [
        "<a href=\"https://colab.research.google.com/github/AtasAlex/CPE-21A-PLD-1-1/blob/main/List%2C_Tuple%2C_and_Set_Dictionaries.ipynb\" target=\"_parent\"><img src=\"https://colab.research.google.com/assets/colab-badge.svg\" alt=\"Open In Colab\"/></a>"
      ]
    },
    {
      "cell_type": "code",
      "execution_count": 15,
      "metadata": {
        "colab": {
          "base_uri": "https://localhost:8080/"
        },
        "id": "TGUlSlYW8p_b",
        "outputId": "238a3415-4bfa-4065-b30c-8826e760062b"
      },
      "outputs": [
        {
          "output_type": "stream",
          "name": "stdout",
          "text": [
            "A\n",
            "Hello\n",
            "Hello\n"
          ]
        }
      ],
      "source": [
        "#List\n",
        "pi = 3.14159\n",
        "VarList = [1, 2, 'A', 'B', 'Hello', pi]\n",
        "print(VarList[2])\n",
        "\n",
        "VarList.append('Hello')\n",
        "print(VarList[6])\n",
        "\n",
        "len(VarList)\n",
        "\n",
        "VarList.remove(pi)\n",
        "print(VarList[4])"
      ]
    },
    {
      "cell_type": "code",
      "source": [
        "#Dictionaries\n",
        "\n",
        "var = \"Hello World\"\n",
        "varDict = {'first' : 123, 2 : 'abc', '3': var, 4 : ['lista', 'listb']}\n",
        "print(varDict['first'])\n",
        "print(varDict[2])\n",
        "print(varDict['3'])\n",
        "print(varDict[4])\n",
        "print(varDict[4][1])\n",
        "len(varDict)"
      ],
      "metadata": {
        "colab": {
          "base_uri": "https://localhost:8080/"
        },
        "id": "bhTo3I1I-9Yg",
        "outputId": "23edb14b-71d4-4ce7-be17-45cbc7a606b1"
      },
      "execution_count": 22,
      "outputs": [
        {
          "output_type": "stream",
          "name": "stdout",
          "text": [
            "123\n",
            "abc\n",
            "Hello World\n",
            "['lista', 'listb']\n",
            "listb\n"
          ]
        },
        {
          "output_type": "execute_result",
          "data": {
            "text/plain": [
              "4"
            ]
          },
          "metadata": {},
          "execution_count": 22
        }
      ]
    },
    {
      "cell_type": "code",
      "source": [
        "#List Generators and Comprehension\n",
        "VarList = [0, 1, 2, 3, 4]\n",
        "print(VarList)\n",
        "VarList = [0,2,4]\n",
        "print([var for var in VarList])\n",
        "\n",
        "def gen_num_up_to (n):\n",
        "  num = 0\n",
        "  while num < n:\n",
        "      yield num \n",
        "      num +=2\n",
        "Varlist = gen_num_up_to(4)\n",
        "print([var for var in Varlist])"
      ],
      "metadata": {
        "colab": {
          "base_uri": "https://localhost:8080/"
        },
        "id": "hL5IH6ISAlzA",
        "outputId": "78e37caf-6018-4697-9222-ff39f9e15d62"
      },
      "execution_count": 31,
      "outputs": [
        {
          "output_type": "stream",
          "name": "stdout",
          "text": [
            "[0, 1, 2, 3, 4]\n",
            "[0, 2, 4]\n",
            "[0, 2]\n"
          ]
        }
      ]
    },
    {
      "cell_type": "code",
      "source": [
        "#Slicing\n",
        "VarList = [1, 2, 3, 4, 5, 6, 7, 8, 9, 10]\n",
        "print(VarList[:5])\n",
        "print(VarList[5:])\n",
        "print(VarList[:-2])\n",
        "print(VarList[-2:])\n",
        "print(VarList[2:-2])\n",
        "print(VarList[2:8:2])"
      ],
      "metadata": {
        "colab": {
          "base_uri": "https://localhost:8080/"
        },
        "id": "-og4qoZaEm68",
        "outputId": "98ad0345-7335-4dfe-96ad-6c3b84d11d22"
      },
      "execution_count": 40,
      "outputs": [
        {
          "output_type": "stream",
          "name": "stdout",
          "text": [
            "[1, 2, 3, 4, 5]\n",
            "[6, 7, 8, 9, 10]\n",
            "[1, 2, 3, 4, 5, 6, 7, 8]\n",
            "[9, 10]\n",
            "[3, 4, 5, 6, 7, 8]\n",
            "[3, 5, 7]\n"
          ]
        }
      ]
    }
  ]
}