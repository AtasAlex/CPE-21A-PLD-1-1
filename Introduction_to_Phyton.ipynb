{
  "nbformat": 4,
  "nbformat_minor": 0,
  "metadata": {
    "colab": {
      "provenance": [],
      "authorship_tag": "ABX9TyPjXHYPeoJpOOkpNtQTGz/S",
      "include_colab_link": true
    },
    "kernelspec": {
      "name": "python3",
      "display_name": "Python 3"
    },
    "language_info": {
      "name": "python"
    }
  },
  "cells": [
    {
      "cell_type": "markdown",
      "metadata": {
        "id": "view-in-github",
        "colab_type": "text"
      },
      "source": [
        "<a href=\"https://colab.research.google.com/github/AtasAlex/CPE-21A-PLD-1-1/blob/main/Introduction_to_Phyton.ipynb\" target=\"_parent\"><img src=\"https://colab.research.google.com/assets/colab-badge.svg\" alt=\"Open In Colab\"/></a>"
      ]
    },
    {
      "cell_type": "markdown",
      "source": [
        "Indentation"
      ],
      "metadata": {
        "id": "AvOKQqmsOlLJ"
      }
    },
    {
      "cell_type": "code",
      "source": [
        "if 5 > 4: print(\"five is greater than four! \") #this is a comment"
      ],
      "metadata": {
        "colab": {
          "base_uri": "https://localhost:8080/"
        },
        "id": "6LbVqY2DPXQm",
        "outputId": "fd1924a1-8c5c-4f3f-c2ed-21fef339dde5"
      },
      "execution_count": 17,
      "outputs": [
        {
          "output_type": "stream",
          "name": "stdout",
          "text": [
            "five is greater than four! \n"
          ]
        }
      ]
    },
    {
      "cell_type": "markdown",
      "source": [
        "Variable Declaration"
      ],
      "metadata": {
        "id": "IvKtxYNZVrXy"
      }
    },
    {
      "cell_type": "code",
      "source": [
        "#variable with single value\n",
        "\n",
        "x=15\n",
        "y=17\n",
        "if x<y:\n",
        "  print(\"x is less than y\")\n",
        "else:\n",
        "    print(\"y is less than x\")\n",
        "#variable with multiple values\n",
        "\n",
        "a,b=30,35\n",
        "print(\"the value of a is:\",a)\n",
        "print(\"the value of b is\",b)"
      ],
      "metadata": {
        "colab": {
          "base_uri": "https://localhost:8080/"
        },
        "id": "-yHRj95dYgQw",
        "outputId": "7f306b0f-c8dc-408d-fbe7-ebca09e753dd"
      },
      "execution_count": 21,
      "outputs": [
        {
          "output_type": "stream",
          "name": "stdout",
          "text": [
            "x is less than y\n",
            "the value of a is: 30\n",
            "the value of b is 35\n"
          ]
        }
      ]
    },
    {
      "cell_type": "markdown",
      "source": [
        "Casting and Type() Function"
      ],
      "metadata": {
        "id": "ab55eKhnan4S"
      }
    },
    {
      "cell_type": "code",
      "source": [
        "f = int(10) #integer\n",
        "g = float(10) #decimal/fractional\n",
        "print(f)\n",
        "print(g)\n",
        "\n",
        "print(type (f))\n",
        "print(type (g))"
      ],
      "metadata": {
        "colab": {
          "base_uri": "https://localhost:8080/"
        },
        "id": "Mkz1UP3Ia6yV",
        "outputId": "7895f285-4eb0-4e29-9727-3c23c5a021ff"
      },
      "execution_count": 24,
      "outputs": [
        {
          "output_type": "stream",
          "name": "stdout",
          "text": [
            "10\n",
            "10.0\n",
            "<class 'int'>\n",
            "<class 'float'>\n"
          ]
        }
      ]
    },
    {
      "cell_type": "markdown",
      "source": [
        "Double Quote or single quote "
      ],
      "metadata": {
        "id": "vd9cz9IQbxKc"
      }
    },
    {
      "cell_type": "code",
      "source": [
        "name= \"Alex\"\n",
        "name1= 'Alexa'\n",
        "print(name)\n",
        "print(name1)"
      ],
      "metadata": {
        "colab": {
          "base_uri": "https://localhost:8080/"
        },
        "id": "BpXrjBXQb1wU",
        "outputId": "a0677dc8-6d12-4c94-a3e5-1923fb805aa8"
      },
      "execution_count": 28,
      "outputs": [
        {
          "output_type": "stream",
          "name": "stdout",
          "text": [
            "Alex\n",
            "Alexa\n"
          ]
        }
      ]
    },
    {
      "cell_type": "markdown",
      "source": [
        "Case Sensitive"
      ],
      "metadata": {
        "id": "yt3K2muzdG8M"
      }
    },
    {
      "cell_type": "code",
      "source": [
        "a= \"Alex\"\n",
        "print(a)"
      ],
      "metadata": {
        "colab": {
          "base_uri": "https://localhost:8080/"
        },
        "id": "p_GlWtqDdIbB",
        "outputId": "de37c977-713e-485c-94cd-b1e906a694ee"
      },
      "execution_count": 30,
      "outputs": [
        {
          "output_type": "stream",
          "name": "stdout",
          "text": [
            "Alex\n"
          ]
        }
      ]
    },
    {
      "cell_type": "markdown",
      "source": [
        "Variable Declaration"
      ],
      "metadata": {
        "id": "T39ci1GfdfhO"
      }
    },
    {
      "cell_type": "code",
      "source": [
        "x= 15\n",
        "y=17\n",
        "if x<y:\n",
        "  print(\"x is less than y\")\n",
        "else:\n",
        "  print(\"y is less than x\")\n",
        "#variable with multiple values\n",
        "\n",
        "a,b= 30,35\n",
        "print(\"the value of a is, a\")\n",
        "print(\"the value of b is, b\")\n",
        "#multiple variables with single value\n",
        "\n",
        "q = r = s = 'Alex'\n",
        "print(q)\n",
        "print(r)\n",
        "print(s)"
      ],
      "metadata": {
        "colab": {
          "base_uri": "https://localhost:8080/"
        },
        "id": "_uMEng2tdjyt",
        "outputId": "bf5a2c39-ba76-409f-ee99-29f374f2dd26"
      },
      "execution_count": 31,
      "outputs": [
        {
          "output_type": "stream",
          "name": "stdout",
          "text": [
            "x is less than y\n",
            "the value of a is, a\n",
            "the value of b is, b\n",
            "Alex\n",
            "Alex\n",
            "Alex\n"
          ]
        }
      ]
    },
    {
      "cell_type": "markdown",
      "source": [
        "Output Variable"
      ],
      "metadata": {
        "id": "N733hyuVfetb"
      }
    },
    {
      "cell_type": "code",
      "source": [
        "i = 'age'\n",
        "I = 'address'\n",
        "print (\"please put your\" + \" \" + i)\n",
        "print (\"please put your\" + \" \" + I)"
      ],
      "metadata": {
        "colab": {
          "base_uri": "https://localhost:8080/"
        },
        "id": "465P1duYf_QQ",
        "outputId": "554a8e79-c665-4634-9461-008e667b08f9"
      },
      "execution_count": 34,
      "outputs": [
        {
          "output_type": "stream",
          "name": "stdout",
          "text": [
            "please put your age\n",
            "please put your address\n"
          ]
        }
      ]
    }
  ]
}