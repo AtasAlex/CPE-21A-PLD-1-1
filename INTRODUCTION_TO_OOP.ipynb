{
  "nbformat": 4,
  "nbformat_minor": 0,
  "metadata": {
    "colab": {
      "provenance": [],
      "authorship_tag": "ABX9TyObVcS/KJ6ZekCbSvVlyJdN",
      "include_colab_link": true
    },
    "kernelspec": {
      "name": "python3",
      "display_name": "Python 3"
    },
    "language_info": {
      "name": "python"
    }
  },
  "cells": [
    {
      "cell_type": "markdown",
      "metadata": {
        "id": "view-in-github",
        "colab_type": "text"
      },
      "source": [
        "<a href=\"https://colab.research.google.com/github/AtasAlex/CPE-21A-PLD-1-1/blob/main/INTRODUCTION_TO_OOP.ipynb\" target=\"_parent\"><img src=\"https://colab.research.google.com/assets/colab-badge.svg\" alt=\"Open In Colab\"/></a>"
      ]
    },
    {
      "cell_type": "code",
      "execution_count": 45,
      "metadata": {
        "colab": {
          "base_uri": "https://localhost:8080/"
        },
        "id": "DOFKmPp38oCS",
        "outputId": "356256af-dfca-4b05-eff7-c8ef7ace2e53"
      },
      "outputs": [
        {
          "output_type": "stream",
          "name": "stdout",
          "text": [
            "The area of the shape is 25\n",
            "The perimeter of the shape is 20\n",
            "The area of the square is 100\n",
            "The perimeter of the square is 40\n"
          ]
        }
      ],
      "source": [
        "class Shape:         \n",
        "  def __init__(shape, area, perimeter):\n",
        "    shape.area = area\n",
        "    shape.perimeter = perimeter\n",
        "\n",
        "shape = Shape(25,20)\n",
        "print('The area of the shape is', shape.area)\n",
        "print('The perimeter of the shape is', shape.perimeter)\n",
        "\n",
        "class Square(Shape):         \n",
        "  pass\n",
        "\n",
        "shape1 = Square(100,40)\n",
        "print('The area of the square is', shape1.area)\n",
        "print('The perimeter of the square is', shape1.perimeter)"
      ]
    },
    {
      "cell_type": "code",
      "source": [
        "class Person:\n",
        "  def __init__(person,name, age):\n",
        "    person.name = name\n",
        "    person.age = age\n",
        "\n",
        "person = Person('Alex', 19)\n",
        "print('My name is', person.name)\n",
        "print('My age is', person.age)\n",
        "\n",
        "class Student(Person):\n",
        "  pass\n",
        "person2 = Student ('Xander', 22)\n",
        "print('My name is', person2.name)\n",
        "print('My age is', person2.age)"
      ],
      "metadata": {
        "colab": {
          "base_uri": "https://localhost:8080/"
        },
        "id": "3Oc32yhHNzTc",
        "outputId": "c8104bbe-b9f3-45b7-9adc-8550ec018175"
      },
      "execution_count": 48,
      "outputs": [
        {
          "output_type": "stream",
          "name": "stdout",
          "text": [
            "My name is Alex\n",
            "My age is 19\n",
            "My name is Xander\n",
            "My age is 22\n"
          ]
        }
      ]
    }
  ]
}