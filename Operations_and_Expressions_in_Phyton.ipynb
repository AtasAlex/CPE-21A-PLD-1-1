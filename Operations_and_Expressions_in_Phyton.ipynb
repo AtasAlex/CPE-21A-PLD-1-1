{
  "nbformat": 4,
  "nbformat_minor": 0,
  "metadata": {
    "colab": {
      "provenance": [],
      "authorship_tag": "ABX9TyP2IStSiVnZGS7YdhinqVEI",
      "include_colab_link": true
    },
    "kernelspec": {
      "name": "python3",
      "display_name": "Python 3"
    },
    "language_info": {
      "name": "python"
    }
  },
  "cells": [
    {
      "cell_type": "markdown",
      "metadata": {
        "id": "view-in-github",
        "colab_type": "text"
      },
      "source": [
        "<a href=\"https://colab.research.google.com/github/AtasAlex/CPE-21A-PLD-1-1/blob/main/Operations_and_Expressions_in_Phyton.ipynb\" target=\"_parent\"><img src=\"https://colab.research.google.com/assets/colab-badge.svg\" alt=\"Open In Colab\"/></a>"
      ]
    },
    {
      "cell_type": "markdown",
      "source": [
        "# Boolean Operators"
      ],
      "metadata": {
        "id": "1YTPS4BMGUiM"
      }
    },
    {
      "cell_type": "code",
      "source": [
        "a=22\n",
        "b=10\n",
        "c=a>b\n",
        "print(a>b)\n",
        "print(a==a)\n",
        "print(b<a)\n",
        "print(c)"
      ],
      "metadata": {
        "colab": {
          "base_uri": "https://localhost:8080/"
        },
        "id": "Xz3lNmQmTWPI",
        "outputId": "b538f5bf-5be8-44c6-8d13-709625cee528"
      },
      "execution_count": 17,
      "outputs": [
        {
          "output_type": "stream",
          "name": "stdout",
          "text": [
            "True\n",
            "True\n",
            "True\n",
            "True\n"
          ]
        }
      ]
    },
    {
      "cell_type": "code",
      "source": [
        "print(bool(\"Hello\"))\n",
        "print(bool(0))\n",
        "print(bool(True))\n",
        "print(bool(False))\n",
        "print(bool(22))\n",
        "print(bool({}))\n",
        "print(bool(None))"
      ],
      "metadata": {
        "colab": {
          "base_uri": "https://localhost:8080/"
        },
        "id": "h4zNP-WPZOEo",
        "outputId": "5a7028a2-e08f-45bd-8286-a1c97d4beca3"
      },
      "execution_count": 36,
      "outputs": [
        {
          "output_type": "stream",
          "name": "stdout",
          "text": [
            "True\n",
            "False\n",
            "True\n",
            "False\n",
            "True\n",
            "False\n",
            "False\n"
          ]
        }
      ]
    },
    {
      "cell_type": "code",
      "source": [
        "def myFunction ():return True\n",
        "\n",
        "if myFunction():\n",
        "  print(\"Yes\")\n",
        "else:\n",
        "  print(\"No\")\n"
      ],
      "metadata": {
        "colab": {
          "base_uri": "https://localhost:8080/"
        },
        "id": "OuGvT0gXfOJX",
        "outputId": "eb02577b-3fac-4fc5-dd7a-919cbb0739a8"
      },
      "execution_count": 41,
      "outputs": [
        {
          "output_type": "stream",
          "name": "stdout",
          "text": [
            "Yes\n"
          ]
        }
      ]
    },
    {
      "cell_type": "code",
      "source": [
        "X=1\n",
        "Y=2\n",
        "Z=3\n",
        "\n",
        "print(X>Y)\n",
        "print(Z==Z)\n",
        "print(Y!=Y)"
      ],
      "metadata": {
        "colab": {
          "base_uri": "https://localhost:8080/"
        },
        "id": "csT0e25whGl_",
        "outputId": "849e9494-77b0-4816-c641-665e73fec81d"
      },
      "execution_count": 42,
      "outputs": [
        {
          "output_type": "stream",
          "name": "stdout",
          "text": [
            "False\n",
            "True\n",
            "False\n"
          ]
        }
      ]
    },
    {
      "cell_type": "markdown",
      "source": [
        "#Phyton Operators"
      ],
      "metadata": {
        "id": "9vaC6Jw2h25C"
      }
    },
    {
      "cell_type": "code",
      "source": [
        "print(22+10)\n",
        "print(22-10)\n",
        "print(22*10)\n",
        "print(22**10)\n",
        "print(22//10)\n",
        "print(22//10)\n",
        "print(22%10)\n"
      ],
      "metadata": {
        "colab": {
          "base_uri": "https://localhost:8080/"
        },
        "id": "V4Wcys0Lh6IG",
        "outputId": "e869e8c9-a5db-45b2-c5f8-e45c84171145"
      },
      "execution_count": 44,
      "outputs": [
        {
          "output_type": "stream",
          "name": "stdout",
          "text": [
            "32\n",
            "12\n",
            "220\n",
            "26559922791424\n",
            "2\n",
            "2\n",
            "2\n"
          ]
        }
      ]
    },
    {
      "cell_type": "markdown",
      "source": [
        "#Bitwise Operators"
      ],
      "metadata": {
        "id": "96u8mhtbimXL"
      }
    },
    {
      "cell_type": "code",
      "source": [
        "i=11 #0000 1011\n",
        "o=7  #0000 0111 \n",
        "p=9  #0000 1010\n",
        "\n",
        "print(i^o)\n",
        "print(~i)\n",
        "print(i<<2)\n",
        "print(o>>2)"
      ],
      "metadata": {
        "colab": {
          "base_uri": "https://localhost:8080/"
        },
        "id": "Whe0Z6Vjipdn",
        "outputId": "580a000b-43e5-44ea-ff03-795a6267a72a"
      },
      "execution_count": 45,
      "outputs": [
        {
          "output_type": "stream",
          "name": "stdout",
          "text": [
            "12\n",
            "-12\n",
            "44\n",
            "1\n"
          ]
        }
      ]
    },
    {
      "cell_type": "markdown",
      "source": [
        "#Assignment Operators"
      ],
      "metadata": {
        "id": "WOu3yABmj0av"
      }
    },
    {
      "cell_type": "code",
      "source": [
        "x=3\n",
        "x+=4 #same as x=x+4\n",
        "print(x)\n",
        "x"
      ],
      "metadata": {
        "colab": {
          "base_uri": "https://localhost:8080/"
        },
        "id": "7THlzED3j2hm",
        "outputId": "a357eb19-0b98-4bdb-9241-6e7958484c19"
      },
      "execution_count": 48,
      "outputs": [
        {
          "output_type": "stream",
          "name": "stdout",
          "text": [
            "7\n"
          ]
        },
        {
          "output_type": "execute_result",
          "data": {
            "text/plain": [
              "7"
            ]
          },
          "metadata": {},
          "execution_count": 48
        }
      ]
    },
    {
      "cell_type": "markdown",
      "source": [
        "#Logical Operators"
      ],
      "metadata": {
        "id": "H7c7PcgVkwO5"
      }
    },
    {
      "cell_type": "code",
      "source": [
        "a=2\n",
        "b=3\n",
        "\n",
        "print(a>b and b==b)\n",
        "print(b>a and a==a)"
      ],
      "metadata": {
        "colab": {
          "base_uri": "https://localhost:8080/"
        },
        "id": "unai7t-fk0VI",
        "outputId": "e3c008e5-e4ad-422b-c143-590bc98ad555"
      },
      "execution_count": 47,
      "outputs": [
        {
          "output_type": "stream",
          "name": "stdout",
          "text": [
            "False\n",
            "True\n"
          ]
        }
      ]
    }
  ]
}