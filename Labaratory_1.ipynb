{
  "nbformat": 4,
  "nbformat_minor": 0,
  "metadata": {
    "colab": {
      "provenance": [],
      "authorship_tag": "ABX9TyMx5CTnTAUjboQBAfnPHcJp",
      "include_colab_link": true
    },
    "kernelspec": {
      "name": "python3",
      "display_name": "Python 3"
    },
    "language_info": {
      "name": "python"
    }
  },
  "cells": [
    {
      "cell_type": "markdown",
      "metadata": {
        "id": "view-in-github",
        "colab_type": "text"
      },
      "source": [
        "<a href=\"https://colab.research.google.com/github/AtasAlex/CPE-21A-PLD-1-1/blob/main/Labaratory_1.ipynb\" target=\"_parent\"><img src=\"https://colab.research.google.com/assets/colab-badge.svg\" alt=\"Open In Colab\"/></a>"
      ]
    },
    {
      "cell_type": "code",
      "execution_count": 35,
      "metadata": {
        "colab": {
          "base_uri": "https://localhost:8080/"
        },
        "id": "jb6qd7keGBpW",
        "outputId": "c0cd852a-8a6e-4d01-b225-633a5b05b357"
      },
      "outputs": [
        {
          "output_type": "stream",
          "name": "stdout",
          "text": [
            "sum 210\n",
            "average 10.5\n"
          ]
        }
      ],
      "source": [
        "#Example 1\n",
        "\n",
        "n=20\n",
        "totalnumbers= n\n",
        "sum=0\n",
        "average=0\n",
        "\n",
        "while n>=0:\n",
        "  sum+=n\n",
        "  n-=1 \n",
        "print('sum', sum)\n",
        "average= sum/totalnumbers\n",
        "print('average',average)\n",
        "\n"
      ]
    },
    {
      "cell_type": "code",
      "source": [
        "#Example 2\n",
        "class Student:\n",
        "  def __init__(myself,name, age, studentnumber, course, school):\n",
        "    myself.name = name\n",
        "    myself.age = age\n",
        "    myself.studentnumber = studentnumber\n",
        "    myself.course = course\n",
        "    myself.school = school\n",
        "myself = Student('Alex Sidamon Atas', 19, 202201113,'Computer Engineering','Cvsu' )\n",
        "print('My name is', (myself.name))\n",
        "print('I am', (myself.age), 'years old')\n",
        "print('My student number is', (myself.studentnumber))\n",
        "print('My course is', (myself.course))\n",
        "print('The name of my school is', (myself.school))"
      ],
      "metadata": {
        "colab": {
          "base_uri": "https://localhost:8080/"
        },
        "id": "0VcHN3h1PpkH",
        "outputId": "f0c354bf-14dc-4f1e-b004-ada9fe62ba8c"
      },
      "execution_count": 37,
      "outputs": [
        {
          "output_type": "stream",
          "name": "stdout",
          "text": [
            "My name is Alex Sidamon Atas\n",
            "I am 19 years old\n",
            "My student number is 202201113\n",
            "My course is Computer Engineering\n",
            "The name of my school is Cvsu\n"
          ]
        }
      ]
    }
  ]
}